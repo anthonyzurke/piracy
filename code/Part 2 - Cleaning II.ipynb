{
 "cells": [
  {
   "cell_type": "markdown",
   "id": "93ce6b5f",
   "metadata": {},
   "source": [
    "# Part 2 - Cleaning of Economic Data"
   ]
  },
  {
   "cell_type": "markdown",
   "id": "043e2586",
   "metadata": {},
   "source": [
    "### Data Dictionary"
   ]
  },
  {
   "cell_type": "markdown",
   "id": "288b2c63",
   "metadata": {},
   "source": [
    "|Goal|File Name|Indicator|Description|\n",
    "|-----|----|---|---|\n",
    "|Goal 1|t111|1.1.1|Proportion of the population living below the international poverty line by sex, age, employment status and geographic location (urban/rural)|\n",
    "|Goal 4 |t411|4.1.1|Proportion of children and young people (a) in grades 2/3; (b) at the end of primary; and (c) at the end of lower secondary achieving at least a minimum proficiency level in (i) reading and (ii) mathematics, by sex|\n",
    "|Goal 14 |t14c1|14.c.1|Number of countries making progress in ratifying, accepting and implementing through legal, policy and institutional frameworks, ocean-related instruments that implement international law, as reflected in the United Nations Convention on the Law of the Sea, for the conservation and sustainable use of the oceans and their resources|\n",
    "|Goal 9 |t9.5.1|9.5.1|Research and development expenditure as a proportion of GDP|\n",
    "|Goal 9 |t9.5.2|9.5.2|Researchers (in full-time equivalent) per million inhabitants|"
   ]
  },
  {
   "cell_type": "markdown",
   "id": "0486af7e",
   "metadata": {},
   "source": [
    "# Libraries"
   ]
  },
  {
   "cell_type": "code",
   "execution_count": 1,
   "id": "f6d4ad54",
   "metadata": {},
   "outputs": [],
   "source": [
    "import numpy as np\n",
    "import pandas as pd\n",
    "import warnings\n",
    "warnings.filterwarnings('ignore')"
   ]
  },
  {
   "cell_type": "markdown",
   "id": "91909a41",
   "metadata": {},
   "source": [
    "# Data"
   ]
  },
  {
   "cell_type": "code",
   "execution_count": 2,
   "id": "b42b457e",
   "metadata": {},
   "outputs": [],
   "source": [
    "t111 = pd.read_csv('../sdg_piracy_sheets/csv_data/t111.csv', index_col=[0])\n",
    "t411 = pd.read_csv('../sdg_piracy_sheets/csv_data/t411.csv', index_col=[0])\n",
    "t14c1 = pd.read_csv('../sdg_piracy_sheets/csv_data/t14c1.csv', index_col=[0])\n",
    "rd_gdp = pd.read_csv('../sdg_piracy_sheets/csv_data/t9.5.1.csv', index_col=[0])\n",
    "research = pd.read_csv('../sdg_piracy_sheets/csv_data/t9.5.2.csv', index_col=[0])"
   ]
  },
  {
   "cell_type": "markdown",
   "id": "b0e7bce0",
   "metadata": {},
   "source": [
    "* Decided to drop the following columns for the sake of further clean up"
   ]
  },
  {
   "cell_type": "code",
   "execution_count": 3,
   "id": "b0200e0e",
   "metadata": {},
   "outputs": [],
   "source": [
    "drop_lis = ['Goal', 'Target', 'SeriesCode', 'SeriesDescription', 'FootNote']\n",
    "t111.drop(drop_lis, axis=1, inplace=True)\n",
    "t411.drop(drop_lis, axis=1, inplace=True)\n",
    "t14c1.drop(drop_lis, axis=1, inplace=True)"
   ]
  },
  {
   "cell_type": "markdown",
   "id": "5e6115dd",
   "metadata": {},
   "source": [
    "* Inclusion of UN Poverty data/statistics to the dataset, SDG goal 1.  "
   ]
  },
  {
   "cell_type": "code",
   "execution_count": 4,
   "id": "1397bad2",
   "metadata": {},
   "outputs": [],
   "source": [
    "poverty= t111[t111['Age']!='15-24']\n",
    "poverty= poverty[poverty['Age']!= '15+']\n",
    "poverty= poverty[poverty['Age']!= '25+']\n",
    "poverty= poverty[poverty['Sex']!= 'MALE']\n",
    "poverty= poverty[poverty['Age']!= 'FEMALE']"
   ]
  },
  {
   "cell_type": "code",
   "execution_count": 5,
   "id": "0581641f",
   "metadata": {},
   "outputs": [],
   "source": [
    "drop_lis = ['Age', 'Sex', 'Time_Detail', 'Source', 'Nature', 'Reporting Type', 'Units']\n",
    "poverty.drop(drop_lis, axis=1, inplace=True)"
   ]
  },
  {
   "cell_type": "code",
   "execution_count": 6,
   "id": "a69424f3",
   "metadata": {},
   "outputs": [],
   "source": [
    "poverty.rename(columns={'Value':'poverty_percentage'}, inplace=True)\n",
    "poverty['GeoAreaCode'] = poverty['GeoAreaCode'].astype(int)"
   ]
  },
  {
   "cell_type": "markdown",
   "id": "777c288b",
   "metadata": {},
   "source": [
    "* Imputed missing values found within a particular year with the previous years' measurement."
   ]
  },
  {
   "cell_type": "markdown",
   "id": "f45d63fc",
   "metadata": {},
   "source": [
    "[source](https://stackoverflow.com/questions/65817843/how-to-create-new-rows-with-missing-years-and-populate-them-with-current-rows)"
   ]
  },
  {
   "cell_type": "code",
   "execution_count": 7,
   "id": "1f30063a",
   "metadata": {},
   "outputs": [],
   "source": [
    "def year_filler(df, low=2000, high=2022):\n",
    "    df = (df.set_index('TimePeriod').groupby('GeoAreaCode').apply(lambda x: x.reindex(np.arange(low, high)).ffill()).reset_index('GeoAreaCode',drop=True).reset_index())\n",
    "    df.dropna(inplace=True)\n",
    "    return df"
   ]
  },
  {
   "cell_type": "markdown",
   "id": "2b2c6404",
   "metadata": {},
   "source": [
    "* Analyzed observations from 2010 onwards. "
   ]
  },
  {
   "cell_type": "code",
   "execution_count": 8,
   "id": "21dcb30c",
   "metadata": {},
   "outputs": [],
   "source": [
    "poverty = year_filler(poverty)\n",
    "poverty['join_key'] = list(zip(poverty['GeoAreaCode'], poverty['TimePeriod']))\n",
    "poverty = poverty[poverty['TimePeriod'] > 2009]"
   ]
  },
  {
   "cell_type": "code",
   "execution_count": 9,
   "id": "ca52e0ee",
   "metadata": {},
   "outputs": [],
   "source": [
    "poverty =poverty.drop(['TimePeriod', 'Indicator', 'GeoAreaCode', 'GeoAreaName'], axis=1)"
   ]
  },
  {
   "cell_type": "code",
   "execution_count": 10,
   "id": "7e9a5624",
   "metadata": {},
   "outputs": [],
   "source": [
    "poverty.to_csv('../datasets/poverty.csv')"
   ]
  },
  {
   "cell_type": "markdown",
   "id": "76ac166c",
   "metadata": {},
   "source": [
    "* Inclusion of math and reading data/statistics, SDG goal 4."
   ]
  },
  {
   "cell_type": "code",
   "execution_count": 11,
   "id": "110fe7a1",
   "metadata": {},
   "outputs": [],
   "source": [
    "t411= t411[t411['Sex']!= 'MALE']\n",
    "t411= t411[t411['Sex']!= 'FEMALE']\n",
    "t411= t411[t411['Education level']== 'LOWSEC']\n",
    "t411m = t411[t411['Type of skill']== 'SKILL_MATH']\n",
    "t411r = t411[t411['Type of skill']== 'SKILL_READ']"
   ]
  },
  {
   "cell_type": "code",
   "execution_count": 12,
   "id": "b41d9cd6",
   "metadata": {},
   "outputs": [],
   "source": [
    "t411m = year_filler(t411m)\n",
    "t411r = year_filler(t411r)"
   ]
  },
  {
   "cell_type": "code",
   "execution_count": 13,
   "id": "9890d6ce",
   "metadata": {},
   "outputs": [],
   "source": [
    "t411m['GeoAreaCode'] = t411m['GeoAreaCode'].astype(int)\n",
    "t411m['join_key'] = list(zip(t411m['GeoAreaCode'], t411m['TimePeriod']))\n",
    "math = t411m[['join_key', 'Value']]\n",
    "\n",
    "t411r['GeoAreaCode'] = t411r['GeoAreaCode'].astype(int)\n",
    "t411r['join_key'] = list(zip(t411r['GeoAreaCode'], t411r['TimePeriod']))\n",
    "reading = t411r[['join_key', 'Value']]\n",
    "\n",
    "math.rename(columns={'Value': 'math_benchmark_percent'}, inplace=True)\n",
    "reading.rename(columns={'Value': 'reading_benchmark_percent'}, inplace=True)"
   ]
  },
  {
   "cell_type": "markdown",
   "id": "b855fb01",
   "metadata": {},
   "source": [
    "* Saved to respective csv files after cleaning."
   ]
  },
  {
   "cell_type": "code",
   "execution_count": 14,
   "id": "172af744",
   "metadata": {},
   "outputs": [],
   "source": [
    "math.to_csv('../datasets/math.csv')\n",
    "reading.to_csv('../datasets/reading.csv')"
   ]
  },
  {
   "cell_type": "markdown",
   "id": "35ed588e",
   "metadata": {},
   "source": [
    "* Inclusion of sea law data/statistics, SDG goal 14."
   ]
  },
  {
   "cell_type": "code",
   "execution_count": 15,
   "id": "fe60c525",
   "metadata": {},
   "outputs": [],
   "source": [
    "sea_law = t14c1[['GeoAreaCode', 'Value']]\n",
    "sea_law.rename(columns={'Value': 'sea_law_adoption', 'GeoAreaCode': 'country_code'}, inplace=True)"
   ]
  },
  {
   "cell_type": "code",
   "execution_count": 16,
   "id": "29bfeee1",
   "metadata": {},
   "outputs": [],
   "source": [
    "sea_law.to_csv('../datasets/sea_law.csv')"
   ]
  },
  {
   "cell_type": "markdown",
   "id": "f97fe84c",
   "metadata": {},
   "source": [
    "Inclusion of R&D data/statistics, SDG goal 9."
   ]
  },
  {
   "cell_type": "code",
   "execution_count": 17,
   "id": "3076a0cd",
   "metadata": {},
   "outputs": [
    {
     "data": {
      "text/html": [
       "<div>\n",
       "<style scoped>\n",
       "    .dataframe tbody tr th:only-of-type {\n",
       "        vertical-align: middle;\n",
       "    }\n",
       "\n",
       "    .dataframe tbody tr th {\n",
       "        vertical-align: top;\n",
       "    }\n",
       "\n",
       "    .dataframe thead th {\n",
       "        text-align: right;\n",
       "    }\n",
       "</style>\n",
       "<table border=\"1\" class=\"dataframe\">\n",
       "  <thead>\n",
       "    <tr style=\"text-align: right;\">\n",
       "      <th></th>\n",
       "      <th>GeoAreaCode</th>\n",
       "      <th>GeoAreaName</th>\n",
       "      <th>TimePeriod</th>\n",
       "      <th>R&amp;D proportion of GDP</th>\n",
       "    </tr>\n",
       "    <tr>\n",
       "      <th>Indicator</th>\n",
       "      <th></th>\n",
       "      <th></th>\n",
       "      <th></th>\n",
       "      <th></th>\n",
       "    </tr>\n",
       "  </thead>\n",
       "  <tbody>\n",
       "    <tr>\n",
       "      <th>9.5.1</th>\n",
       "      <td>8</td>\n",
       "      <td>Albania</td>\n",
       "      <td>2007</td>\n",
       "      <td>0.08757</td>\n",
       "    </tr>\n",
       "    <tr>\n",
       "      <th>9.5.1</th>\n",
       "      <td>8</td>\n",
       "      <td>Albania</td>\n",
       "      <td>2008</td>\n",
       "      <td>0.15412</td>\n",
       "    </tr>\n",
       "    <tr>\n",
       "      <th>9.5.1</th>\n",
       "      <td>12</td>\n",
       "      <td>Algeria</td>\n",
       "      <td>2001</td>\n",
       "      <td>0.23028</td>\n",
       "    </tr>\n",
       "    <tr>\n",
       "      <th>9.5.1</th>\n",
       "      <td>12</td>\n",
       "      <td>Algeria</td>\n",
       "      <td>2002</td>\n",
       "      <td>0.36639</td>\n",
       "    </tr>\n",
       "    <tr>\n",
       "      <th>9.5.1</th>\n",
       "      <td>12</td>\n",
       "      <td>Algeria</td>\n",
       "      <td>2003</td>\n",
       "      <td>0.19622</td>\n",
       "    </tr>\n",
       "  </tbody>\n",
       "</table>\n",
       "</div>"
      ],
      "text/plain": [
       "           GeoAreaCode GeoAreaName  TimePeriod  R&D proportion of GDP \n",
       "Indicator                                                             \n",
       "9.5.1                8     Albania        2007                 0.08757\n",
       "9.5.1                8     Albania        2008                 0.15412\n",
       "9.5.1               12     Algeria        2001                 0.23028\n",
       "9.5.1               12     Algeria        2002                 0.36639\n",
       "9.5.1               12     Algeria        2003                 0.19622"
      ]
     },
     "execution_count": 17,
     "metadata": {},
     "output_type": "execute_result"
    }
   ],
   "source": [
    "rd_gdp.head()"
   ]
  },
  {
   "cell_type": "code",
   "execution_count": 18,
   "id": "5c4c826d",
   "metadata": {},
   "outputs": [],
   "source": [
    "rd_gdp = year_filler(rd_gdp)\n",
    "rd_gdp = rd_gdp[rd_gdp['TimePeriod'] > 2009]"
   ]
  },
  {
   "cell_type": "code",
   "execution_count": 19,
   "id": "b7aa975e",
   "metadata": {},
   "outputs": [],
   "source": [
    "rd_gdp.rename(columns={'R&D proportion of GDP ':'R&D_proportion_of_GDP'}, inplace=True)\n",
    "\n",
    "rd_gdp['GeoAreaCode'] = rd_gdp['GeoAreaCode'].astype(int)\n",
    "rd_gdp['join_key'] = list(zip(rd_gdp['GeoAreaCode'], rd_gdp['TimePeriod']))\n",
    "rd_gdp = rd_gdp[['join_key', 'R&D_proportion_of_GDP']]"
   ]
  },
  {
   "cell_type": "code",
   "execution_count": 20,
   "id": "58c1ea0d",
   "metadata": {},
   "outputs": [],
   "source": [
    "rd_gdp.to_csv('../datasets/rd_gdp.csv')"
   ]
  },
  {
   "cell_type": "code",
   "execution_count": 21,
   "id": "e1a0fb2d",
   "metadata": {},
   "outputs": [
    {
     "data": {
      "text/html": [
       "<div>\n",
       "<style scoped>\n",
       "    .dataframe tbody tr th:only-of-type {\n",
       "        vertical-align: middle;\n",
       "    }\n",
       "\n",
       "    .dataframe tbody tr th {\n",
       "        vertical-align: top;\n",
       "    }\n",
       "\n",
       "    .dataframe thead th {\n",
       "        text-align: right;\n",
       "    }\n",
       "</style>\n",
       "<table border=\"1\" class=\"dataframe\">\n",
       "  <thead>\n",
       "    <tr style=\"text-align: right;\">\n",
       "      <th></th>\n",
       "      <th>GeoAreaCode</th>\n",
       "      <th>GeoAreaName</th>\n",
       "      <th>TimePeriod</th>\n",
       "      <th>full_time_researchers_per_million</th>\n",
       "      <th>Time_Detail</th>\n",
       "    </tr>\n",
       "    <tr>\n",
       "      <th>Indicator</th>\n",
       "      <th></th>\n",
       "      <th></th>\n",
       "      <th></th>\n",
       "      <th></th>\n",
       "      <th></th>\n",
       "    </tr>\n",
       "  </thead>\n",
       "  <tbody>\n",
       "    <tr>\n",
       "      <th>9.5.2</th>\n",
       "      <td>8</td>\n",
       "      <td>Albania</td>\n",
       "      <td>2008</td>\n",
       "      <td>155.52783</td>\n",
       "      <td>2008</td>\n",
       "    </tr>\n",
       "    <tr>\n",
       "      <th>9.5.2</th>\n",
       "      <td>12</td>\n",
       "      <td>Algeria</td>\n",
       "      <td>2005</td>\n",
       "      <td>168.71935</td>\n",
       "      <td>2005</td>\n",
       "    </tr>\n",
       "    <tr>\n",
       "      <th>9.5.2</th>\n",
       "      <td>12</td>\n",
       "      <td>Algeria</td>\n",
       "      <td>2017</td>\n",
       "      <td>819.34270</td>\n",
       "      <td>2017</td>\n",
       "    </tr>\n",
       "    <tr>\n",
       "      <th>9.5.2</th>\n",
       "      <td>16</td>\n",
       "      <td>American Samoa</td>\n",
       "      <td>2002</td>\n",
       "      <td>84.63101</td>\n",
       "      <td>2002</td>\n",
       "    </tr>\n",
       "    <tr>\n",
       "      <th>9.5.2</th>\n",
       "      <td>16</td>\n",
       "      <td>American Samoa</td>\n",
       "      <td>2003</td>\n",
       "      <td>403.33423</td>\n",
       "      <td>2003</td>\n",
       "    </tr>\n",
       "  </tbody>\n",
       "</table>\n",
       "</div>"
      ],
      "text/plain": [
       "           GeoAreaCode     GeoAreaName  TimePeriod  \\\n",
       "Indicator                                            \n",
       "9.5.2                8         Albania        2008   \n",
       "9.5.2               12         Algeria        2005   \n",
       "9.5.2               12         Algeria        2017   \n",
       "9.5.2               16  American Samoa        2002   \n",
       "9.5.2               16  American Samoa        2003   \n",
       "\n",
       "           full_time_researchers_per_million  Time_Detail  \n",
       "Indicator                                                  \n",
       "9.5.2                              155.52783         2008  \n",
       "9.5.2                              168.71935         2005  \n",
       "9.5.2                              819.34270         2017  \n",
       "9.5.2                               84.63101         2002  \n",
       "9.5.2                              403.33423         2003  "
      ]
     },
     "execution_count": 21,
     "metadata": {},
     "output_type": "execute_result"
    }
   ],
   "source": [
    "research.rename(columns={' Full Time Researchers per million (pop)  ':'full_time_researchers_per_million', 'Year': 'TimePeriod'}, inplace=True)\n",
    "research.head()"
   ]
  },
  {
   "cell_type": "code",
   "execution_count": 22,
   "id": "4329c3cc",
   "metadata": {},
   "outputs": [],
   "source": [
    "research = year_filler(research)\n",
    "research = research[research['TimePeriod'] > 2009]"
   ]
  },
  {
   "cell_type": "code",
   "execution_count": 23,
   "id": "4abeee8a",
   "metadata": {},
   "outputs": [],
   "source": [
    "research['GeoAreaCode'] = research['GeoAreaCode'].astype(int)\n",
    "research['join_key'] = list(zip(research['GeoAreaCode'], research['TimePeriod']))\n",
    "research = research[['join_key', 'full_time_researchers_per_million']]"
   ]
  },
  {
   "cell_type": "code",
   "execution_count": 24,
   "id": "aa0fa336",
   "metadata": {},
   "outputs": [],
   "source": [
    "research.to_csv('../datasets/research.csv')"
   ]
  },
  {
   "cell_type": "markdown",
   "id": "19b99f1d",
   "metadata": {},
   "source": [
    "* All cleaned SDG data are saved to their respective csv files. "
   ]
  },
  {
   "cell_type": "markdown",
   "id": "9d9ecef3",
   "metadata": {},
   "source": [
    "* Merging of the SDG, economic data above with the our pirate activity data cleaned in part 1 in order to produce a master data frame we will then used for or EDA and modeling steps. "
   ]
  },
  {
   "cell_type": "code",
   "execution_count": 25,
   "id": "c5ba82a5",
   "metadata": {},
   "outputs": [],
   "source": [
    "df = pd.read_csv('../datasets/cleaned_pirate_activity_eda.csv', index_col=[0])\n",
    "df['join_key'] = list(zip(df.country_code, df.year))"
   ]
  },
  {
   "cell_type": "markdown",
   "id": "9c59e8e1",
   "metadata": {},
   "source": [
    "* Counted the number of attacks per country within our scope."
   ]
  },
  {
   "cell_type": "code",
   "execution_count": 26,
   "id": "ff10c6d7",
   "metadata": {},
   "outputs": [],
   "source": [
    "#counting attacks by country\n",
    "attacks = df.groupby('country_code').size().to_frame()\n",
    "attacks.rename(columns = {0:'attacks'}, inplace = True)"
   ]
  },
  {
   "cell_type": "code",
   "execution_count": 27,
   "id": "1caff177",
   "metadata": {},
   "outputs": [],
   "source": [
    "#joining features from other data\n",
    "df = df.merge(poverty, on='join_key', how='left')\n",
    "df = df.merge(attacks, on='country_code', how='left')\n",
    "df = df.merge(math, on='join_key', how='left')\n",
    "df = df.merge(reading, on='join_key', how='left')\n",
    "df = df.merge(sea_law, on='country_code', how='left')\n",
    "df = df.merge(rd_gdp, on='join_key', how='left')\n",
    "df = df.merge(research, on='join_key', how='left')"
   ]
  },
  {
   "cell_type": "markdown",
   "id": "8fbbb834",
   "metadata": {},
   "source": [
    "* Sanity check to see if there are any null values after our merge."
   ]
  },
  {
   "cell_type": "code",
   "execution_count": 28,
   "id": "01e5ed1b",
   "metadata": {},
   "outputs": [
    {
     "name": "stdout",
     "output_type": "stream",
     "text": [
      "X 0\n",
      "Y 0\n",
      "subreg 0\n",
      "hostilitytype_l 0\n",
      "victim_l 0\n",
      "navarea 0\n",
      "coords 0\n",
      "country 0\n",
      "year 0\n",
      "month 0\n",
      "day 0\n",
      "subreg_11 0\n",
      "subreg_12 0\n",
      "subreg_13 0\n",
      "subreg_18 0\n",
      "subreg_21 0\n",
      "subreg_22 0\n",
      "subreg_23 0\n",
      "subreg_24 0\n",
      "subreg_25 0\n",
      "subreg_26 0\n",
      "subreg_27 0\n",
      "subreg_28 0\n",
      "subreg_36 0\n",
      "subreg_37 0\n",
      "subreg_44 0\n",
      "subreg_51 0\n",
      "subreg_52 0\n",
      "subreg_53 0\n",
      "subreg_54 0\n",
      "subreg_55 0\n",
      "subreg_56 0\n",
      "subreg_57 0\n",
      "subreg_61 0\n",
      "subreg_62 0\n",
      "subreg_63 0\n",
      "subreg_71 0\n",
      "subreg_72 0\n",
      "subreg_73 0\n",
      "subreg_74 0\n",
      "subreg_81 0\n",
      "subreg_82 0\n",
      "subreg_83 0\n",
      "subreg_91 0\n",
      "subreg_92 0\n",
      "subreg_93 0\n",
      "subreg_94 0\n",
      "subreg_95 0\n",
      "subreg_96 0\n",
      "subreg_97 0\n",
      "hostilitytype_l_attempted_boarding 0\n",
      "hostilitytype_l_hijacking 0\n",
      "hostilitytype_l_kidnapping 0\n",
      "hostilitytype_l_navel_engagement 0\n",
      "hostilitytype_l_other 0\n",
      "hostilitytype_l_pirate_assaults 0\n",
      "hostilitytype_l_suspicious_approach 0\n",
      "hostilitytype_l_unknown 0\n",
      "victim_l_anchored_vessel 0\n",
      "victim_l_barge 0\n",
      "victim_l_cargo_ship 0\n",
      "victim_l_fishing_vessel 0\n",
      "victim_l_merchant_vessel 0\n",
      "victim_l_offshore_vessel 0\n",
      "victim_l_other 0\n",
      "victim_l_passenger_ship 0\n",
      "victim_l_sailing_vessel 0\n",
      "victim_l_tanker 0\n",
      "victim_l_tugboat 0\n",
      "victim_l_unknown 0\n",
      "victim_l_vessel 0\n",
      "navarea_i 0\n",
      "navarea_ii 0\n",
      "navarea_iii 0\n",
      "navarea_iv 0\n",
      "navarea_ix 0\n",
      "navarea_v 0\n",
      "navarea_vi 0\n",
      "navarea_vii 0\n",
      "navarea_viii 0\n",
      "navarea_x 0\n",
      "navarea_xi 0\n",
      "navarea_xii 0\n",
      "navarea_xiii 0\n",
      "navarea_xiv 0\n",
      "navarea_xv 0\n",
      "navarea_xvi 0\n",
      "month_01 0\n",
      "month_02 0\n",
      "month_03 0\n",
      "month_04 0\n",
      "month_05 0\n",
      "month_06 0\n",
      "month_07 0\n",
      "month_08 0\n",
      "month_09 0\n",
      "month_10 0\n",
      "month_11 0\n",
      "month_12 0\n",
      "pirate_success 0\n",
      "country_code 0\n",
      "join_key 0\n",
      "poverty_percentage 169\n",
      "attacks 0\n",
      "math_benchmark_percent 2133\n",
      "reading_benchmark_percent 2358\n",
      "sea_law_adoption 2819\n",
      "R&D_proportion_of_GDP 1860\n",
      "full_time_researchers_per_million 1946\n"
     ]
    }
   ],
   "source": [
    "for col in df.columns.tolist():\n",
    "    print(col, df[col].isna().sum())"
   ]
  },
  {
   "cell_type": "code",
   "execution_count": 29,
   "id": "26192c02",
   "metadata": {},
   "outputs": [],
   "source": [
    "df['math_benchmark_percent'].fillna(0,inplace=True)\n",
    "df['reading_benchmark_percent'].fillna(0,inplace=True)\n",
    "df['sea_law_adoption'].fillna(0,inplace=True)\n",
    "df['poverty_percentage'].fillna(25,inplace=True)\n",
    "df['R&D_proportion_of_GDP'].fillna(25,inplace=True)\n",
    "df['full_time_researchers_per_million'].fillna(10,inplace=True)"
   ]
  },
  {
   "cell_type": "markdown",
   "id": "c0f26345",
   "metadata": {},
   "source": [
    "* From our _'high_risk'_ column we deemed countries that were more prone to attacks, more than 15 attacks, as high risk whilst countries below this threshold were deemed low risk countries. "
   ]
  },
  {
   "cell_type": "code",
   "execution_count": 30,
   "id": "9a0b02f5",
   "metadata": {},
   "outputs": [],
   "source": [
    "#creating a y/target for modeling\n",
    "df['high_risk'] = np.where(df['attacks']<15, 0, 1)"
   ]
  },
  {
   "cell_type": "code",
   "execution_count": 31,
   "id": "614a1bda",
   "metadata": {},
   "outputs": [],
   "source": [
    "df.to_csv('../datasets/eda_df.csv')"
   ]
  },
  {
   "cell_type": "code",
   "execution_count": 32,
   "id": "94ae5a98",
   "metadata": {},
   "outputs": [],
   "source": [
    "#Removing incidents not near a country\n",
    "df = df[df['country_code']!=1]"
   ]
  },
  {
   "cell_type": "code",
   "execution_count": 33,
   "id": "bfff7b07",
   "metadata": {},
   "outputs": [
    {
     "data": {
      "text/plain": [
       "395"
      ]
     },
     "execution_count": 33,
     "metadata": {},
     "output_type": "execute_result"
    }
   ],
   "source": [
    "len(df.join_key.unique().tolist())"
   ]
  },
  {
   "cell_type": "code",
   "execution_count": 34,
   "id": "d32d5257",
   "metadata": {},
   "outputs": [],
   "source": [
    "df.drop_duplicates('join_key', inplace=True)"
   ]
  },
  {
   "cell_type": "code",
   "execution_count": 35,
   "id": "361818ca",
   "metadata": {},
   "outputs": [],
   "source": [
    "df = df[['year', 'navarea_i','navarea_ii','navarea_iii','navarea_iv','navarea_ix','navarea_v',\\\n",
    "         'navarea_vi','navarea_vii','navarea_viii','navarea_x','navarea_xi','navarea_xii',\\\n",
    "         'navarea_xiii','navarea_xiv','navarea_xv','navarea_xvi','poverty_percentage','attacks',\\\n",
    "         'math_benchmark_percent', 'reading_benchmark_percent','sea_law_adoption','R&D_proportion_of_GDP',\\\n",
    "         'full_time_researchers_per_million','high_risk']]"
   ]
  },
  {
   "cell_type": "code",
   "execution_count": 36,
   "id": "1fd3e132",
   "metadata": {},
   "outputs": [
    {
     "data": {
      "text/plain": [
       "1    0.607595\n",
       "0    0.392405\n",
       "Name: high_risk, dtype: float64"
      ]
     },
     "execution_count": 36,
     "metadata": {},
     "output_type": "execute_result"
    }
   ],
   "source": [
    "#finding baseline. I increased the cutoff here and it resulted in better modeling\n",
    "df.high_risk.value_counts(normalize=True)"
   ]
  },
  {
   "cell_type": "code",
   "execution_count": 37,
   "id": "be83503d",
   "metadata": {},
   "outputs": [],
   "source": [
    "df.to_csv('../datasets/modeling.csv')"
   ]
  },
  {
   "cell_type": "markdown",
   "id": "e2793f70",
   "metadata": {},
   "source": [
    "The final merged and cleaned data is saved into it's respective csv file. This is what we will use for our exploratory data analysis (part 3) and modeling (part 4). "
   ]
  }
 ],
 "metadata": {
  "kernelspec": {
   "display_name": "Python 3",
   "language": "python",
   "name": "python3"
  },
  "language_info": {
   "codemirror_mode": {
    "name": "ipython",
    "version": 3
   },
   "file_extension": ".py",
   "mimetype": "text/x-python",
   "name": "python",
   "nbconvert_exporter": "python",
   "pygments_lexer": "ipython3",
   "version": "3.8.8"
  }
 },
 "nbformat": 4,
 "nbformat_minor": 5
}
