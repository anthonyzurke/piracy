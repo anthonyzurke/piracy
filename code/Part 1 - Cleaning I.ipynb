{
 "cells": [
  {
   "cell_type": "markdown",
   "id": "1de1af89",
   "metadata": {},
   "source": [
    "# Table of Contents\n",
    "\n",
    "- [Libraries](#Libraries)\n",
    "- [Data](#Data)"
   ]
  },
  {
   "cell_type": "markdown",
   "id": "00efc1bc",
   "metadata": {},
   "source": [
    "# Part 1 - Cleaning of Pirate Data"
   ]
  },
  {
   "cell_type": "markdown",
   "id": "60f96e48",
   "metadata": {},
   "source": [
    "__Within this notebook we did the following:__\n",
    "\n",
    "1. Imported descriptive accounts of specific hostile activity against ships and mariners from the following source,  [Anti-Shipping Activity](https://livingatlas-dcdev.opendata.arcgis.com/datasets/esri2::anti-shipping-activity-messages/about). \n",
    "\n",
    "2. Performed country identification.\n",
    "\n",
    "3. Performed cleaning by identifying any null values and imputing any missing values we deemed necessary. \n",
    "\n",
    "4. Created a dictionary to map out country geography codes. "
   ]
  },
  {
   "cell_type": "markdown",
   "id": "ca0316eb",
   "metadata": {},
   "source": [
    "# Libraries"
   ]
  },
  {
   "cell_type": "code",
   "execution_count": 1,
   "id": "18331dac",
   "metadata": {},
   "outputs": [],
   "source": [
    "import numpy as np\n",
    "import pandas as pd\n",
    "import geopy\n",
    "from geopy.geocoders import Nominatim\n",
    "import time"
   ]
  },
  {
   "cell_type": "markdown",
   "id": "6b64d0d3",
   "metadata": {},
   "source": [
    "# Data"
   ]
  },
  {
   "cell_type": "code",
   "execution_count": 2,
   "id": "5cabbae5",
   "metadata": {},
   "outputs": [],
   "source": [
    "df = pd.read_csv('../datasets/Anti-Shipping_Activity_Messages.csv')\n",
    "df.dropna(inplace = True)"
   ]
  },
  {
   "cell_type": "markdown",
   "id": "8c558baa",
   "metadata": {},
   "source": [
    "* Creating singular coordinate column to pass into closest country function."
   ]
  },
  {
   "cell_type": "code",
   "execution_count": 3,
   "id": "22b4626f",
   "metadata": {},
   "outputs": [],
   "source": [
    "df['Y'] = [str(x) for x in df['Y']]\n",
    "df['X'] = [str(x) for x in df['X']]"
   ]
  },
  {
   "cell_type": "code",
   "execution_count": 4,
   "id": "fbfc7013",
   "metadata": {},
   "outputs": [],
   "source": [
    "df['coords'] = df['Y'] + ',' + df['X']"
   ]
  },
  {
   "cell_type": "code",
   "execution_count": 5,
   "id": "b565077b",
   "metadata": {},
   "outputs": [],
   "source": [
    "gloc = Nominatim(user_agent = 'Anything')"
   ]
  },
  {
   "cell_type": "code",
   "execution_count": 6,
   "id": "15da0e27",
   "metadata": {},
   "outputs": [],
   "source": [
    "def closest_country(c):\n",
    "    time.sleep(1)\n",
    "    try:\n",
    "        c = gloc.reverse(c, language = 'en')\n",
    "        return c.raw['address']['country']\n",
    "    except:\n",
    "        return 'International Waters'"
   ]
  },
  {
   "cell_type": "markdown",
   "id": "4d6837e4",
   "metadata": {},
   "source": [
    "[source](https://www.geeksforgeeks.org/get-the-city-state-and-country-names-from-latitude-and-longitude-using-python/)"
   ]
  },
  {
   "cell_type": "markdown",
   "id": "6c698b37",
   "metadata": {},
   "source": [
    "* Calling closest country on all rows. Due to the the amount of time it takes to perform this step, we broke down the the process into smaller steps. We exported the data to _'esri_w_country_columns'_ to avoid having to perform this step again. "
   ]
  },
  {
   "cell_type": "code",
   "execution_count": 7,
   "id": "74bc1bc9",
   "metadata": {},
   "outputs": [],
   "source": [
    "#df_locations_1_250 = df['coords'][:250].apply(lambda x: closest_country(x))\n",
    "#df_locations_250_500 = df['coords'][250:500].apply(lambda x: closest_country(x))\n",
    "#df_locations_500_750 = df['coords'][500:750].apply(lambda x: closest_country(x))\n",
    "#df_locations_750_1000 = df['coords'][750:1000].apply(lambda x: closest_country(x))\n",
    "#df_locations_1000_1500 = df['coords'][1000:1500].apply(lambda x: closest_country(x))\n",
    "#df_locations_1500_2500 = df['coords'][1500:2500].apply(lambda x: closest_country(x))\n",
    "#df_locations_2500_end = df['coords'][2500:].apply(lambda x: closest_country(x))"
   ]
  },
  {
   "cell_type": "code",
   "execution_count": 8,
   "id": "1c241f35",
   "metadata": {},
   "outputs": [],
   "source": [
    "#df_loc_all = pd.concat([df_locations_1_250,\n",
    "#                         df_locations_250_500, \n",
    "#                         df_locations_500_750, \n",
    "#                         df_locations_750_1000,\n",
    "#                         df_locations_1000_1500,\n",
    "#                         df_locations_1500_2500,\n",
    "#                         df_locations_2500_end\n",
    "#                         ])\n",
    "\n",
    "#df['country'] = df_loc_all\n",
    "\n",
    "#df.to_csv('../datasets/esri_w_country_columns')"
   ]
  },
  {
   "cell_type": "markdown",
   "id": "7e379a03",
   "metadata": {},
   "source": [
    "* A separation of the 'date' column into month, year, day and time, for further analysis."
   ]
  },
  {
   "cell_type": "code",
   "execution_count": 9,
   "id": "9bfe0a9e",
   "metadata": {},
   "outputs": [],
   "source": [
    "df = pd.read_csv('../datasets/esri_w_country_columns')"
   ]
  },
  {
   "cell_type": "code",
   "execution_count": 10,
   "id": "bba31d7a",
   "metadata": {},
   "outputs": [],
   "source": [
    "df['year'] = [x[0:4] for x in df.dateofocc]\n",
    "df['month'] = [x[5:7] for x in df.dateofocc]\n",
    "df['day'] = [x[8:10] for x in df.dateofocc]\n",
    "df['time'] = [x[11:] for x in df.dateofocc]"
   ]
  },
  {
   "cell_type": "code",
   "execution_count": 11,
   "id": "d36e9255",
   "metadata": {},
   "outputs": [
    {
     "data": {
      "text/plain": [
       "Unnamed: 0         7792\n",
       "X                  7792\n",
       "Y                  7792\n",
       "OBJECTID           7792\n",
       "reference          7792\n",
       "dateofocc          7792\n",
       "subreg             7792\n",
       "hostility_d        7792\n",
       "victim_d           7792\n",
       "description        7792\n",
       "hostilitytype_l    7792\n",
       "victim_l           7792\n",
       "navarea            7792\n",
       "coords             7792\n",
       "country            7792\n",
       "year               7792\n",
       "month              7792\n",
       "day                7792\n",
       "time               7792\n",
       "dtype: int64"
      ]
     },
     "execution_count": 11,
     "metadata": {},
     "output_type": "execute_result"
    }
   ],
   "source": [
    "df[df['time'] == '00:00:00+00'].count()\n",
    "#most rows are missing 'time'"
   ]
  },
  {
   "cell_type": "markdown",
   "id": "55c5f9f2",
   "metadata": {},
   "source": [
    "* We dropped the following columns as we assessed they weren't necessary for our analysis moving forward."
   ]
  },
  {
   "cell_type": "code",
   "execution_count": 12,
   "id": "0ad2eec7",
   "metadata": {},
   "outputs": [],
   "source": [
    "#Dropping time column\n",
    "df.drop(columns = 'time', inplace = True)"
   ]
  },
  {
   "cell_type": "code",
   "execution_count": 13,
   "id": "efb92a89",
   "metadata": {},
   "outputs": [],
   "source": [
    "#Dropping original date of occurence column\n",
    "df.drop(columns = 'dateofocc', inplace = True)"
   ]
  },
  {
   "cell_type": "code",
   "execution_count": 14,
   "id": "485f8779",
   "metadata": {},
   "outputs": [],
   "source": [
    "#Dropping 'OBJECTID'\n",
    "df.drop(columns = 'OBJECTID', axis = 1, inplace = True)"
   ]
  },
  {
   "cell_type": "code",
   "execution_count": 15,
   "id": "d7438e5e",
   "metadata": {},
   "outputs": [],
   "source": [
    "#Lowercase all text\n",
    "for i in df.columns:\n",
    "    if df[i].dtypes == 'O':\n",
    "        df[i] = df[i].str.lower()"
   ]
  },
  {
   "cell_type": "markdown",
   "id": "0b655fe0",
   "metadata": {},
   "source": [
    "* The dataset provides an account of the different types of piracy attacks(_'hostilitytype_l'_) that can occur, and the types of vessels (_'victim_lst'_) that have been attacked. We decided to dummify these in order for us to have numeric data to analyze."
   ]
  },
  {
   "cell_type": "code",
   "execution_count": 16,
   "id": "662d5ee9",
   "metadata": {},
   "outputs": [
    {
     "data": {
      "text/plain": [
       "1.0    6971\n",
       "3.0     537\n",
       "4.0     163\n",
       "6.0     124\n",
       "2.0      47\n",
       "5.0      40\n",
       "9.0       6\n",
       "7.0       1\n",
       "Name: hostilitytype_l, dtype: int64"
      ]
     },
     "execution_count": 16,
     "metadata": {},
     "output_type": "execute_result"
    }
   ],
   "source": [
    "df.hostilitytype_l.value_counts()"
   ]
  },
  {
   "cell_type": "code",
   "execution_count": 17,
   "id": "f558b5e1",
   "metadata": {},
   "outputs": [],
   "source": [
    "host_lst = ['pirate_assaults', \n",
    "            'navel_engagement', \n",
    "            'suspicious_approach', \n",
    "            'kidnapping', \n",
    "            'unknown', \n",
    "            'other', \n",
    "            'hijacking', \n",
    "            'no entries', \n",
    "            'attempted_boarding']\n",
    "\n",
    "df.hostilitytype_l = [host_lst[int(x) - 1] for x in df.hostilitytype_l]"
   ]
  },
  {
   "cell_type": "code",
   "execution_count": 18,
   "id": "fa36a3aa",
   "metadata": {},
   "outputs": [],
   "source": [
    "victim_lst = ['anchored_vessel', \n",
    "            'barge', \n",
    "            'cargo_ship', \n",
    "            'fishing_vessel', \n",
    "            'merchant_vessel', \n",
    "            'offshore_vessel', \n",
    "            'passenger_ship', \n",
    "            'sailing_vessel', \n",
    "            'tanker',\n",
    "            'tugboat',\n",
    "            'vessel',\n",
    "            'unknown',\n",
    "            'other']\n",
    "\n",
    "df.victim_l = [victim_lst[int(x) - 1] for x in df.victim_l]"
   ]
  },
  {
   "cell_type": "markdown",
   "id": "710e7837",
   "metadata": {},
   "source": [
    "* Additionally we dummified the subregion(_'subreg'_) columns, the navigational area (_'navarea'_) columns, and the months column which was derived when we separated the 'date' date performed above."
   ]
  },
  {
   "cell_type": "code",
   "execution_count": 19,
   "id": "75402f01",
   "metadata": {},
   "outputs": [],
   "source": [
    "#Dummy all categorical columns\n",
    "to_dummy = ['subreg', 'hostilitytype_l', 'victim_l', 'navarea', 'month']\n",
    "\n",
    "for i in to_dummy:\n",
    "    df = pd.concat([df, pd.get_dummies(df[i], prefix = i)], axis=1)\n",
    "#df.drop(columns = to_dummy, axis = 1)"
   ]
  },
  {
   "cell_type": "markdown",
   "id": "e2326819",
   "metadata": {},
   "source": [
    "* We created a binarized column from the _'hostilitytype_l'_ column that indicates pirate success ('1') or failure ('0')."
   ]
  },
  {
   "cell_type": "code",
   "execution_count": 20,
   "id": "5b3bfb64",
   "metadata": {},
   "outputs": [],
   "source": [
    "success_dict = {\n",
    "    'pirate_assaults':1,      \n",
    "    'suspicious_approach':0,  \n",
    "    'kidnapping':1,\n",
    "    'other':0,\n",
    "    'navel_engagement':0, \n",
    "    'unknown':0,\n",
    "    'attempted_boarding':0,\n",
    "    'hijacking':1\n",
    "}\n",
    "\n",
    "df['pirate_success'] = df.hostilitytype_l.map(success_dict)"
   ]
  },
  {
   "cell_type": "code",
   "execution_count": 21,
   "id": "7a15cca2",
   "metadata": {},
   "outputs": [],
   "source": [
    "df['year'] = df['year'].astype(int)"
   ]
  },
  {
   "cell_type": "markdown",
   "id": "c50ca0ba",
   "metadata": {},
   "source": [
    "* Due to the sporadic nature of the UN SDG data we decided to hone in on observations from 2010 onwards, this decision helped reduce the the amount of NaN values we would have to encounter and allowed for better analysis across all countries and across all the years within our scope."
   ]
  },
  {
   "cell_type": "code",
   "execution_count": 22,
   "id": "69fcb99a",
   "metadata": {},
   "outputs": [],
   "source": [
    "#Incorporate only observations from 2010 on.\n",
    "df = df[df['year'] >= 2010]"
   ]
  },
  {
   "cell_type": "markdown",
   "id": "9edd6db1",
   "metadata": {},
   "source": [
    "* Created a dictionary for the _'geocode'_ column and used this as a unique identifier in order to merge separate datasets."
   ]
  },
  {
   "cell_type": "code",
   "execution_count": 23,
   "id": "235aa4b1",
   "metadata": {},
   "outputs": [],
   "source": [
    "df.drop(columns = ['reference', 'hostility_d', 'victim_d', 'description'], inplace = True)"
   ]
  },
  {
   "cell_type": "code",
   "execution_count": 24,
   "id": "06fca69a",
   "metadata": {},
   "outputs": [],
   "source": [
    "countries = ['The Bahamas', 'Indonesia','International Waters', 'Eritrea', 'India', 'Brazil',\n",
    " 'Somalia', 'Ecuador', 'Philippines', 'Malta', 'China', 'Cameroon', 'Sri Lanka','Nicaragua',\n",
    " 'Senegal', 'Bangladesh', 'Vietnam', 'Malaysia', 'Mozambique', 'Guyana', 'Algeria', 'Tanzania',\n",
    " 'Lebanon', 'Visayas', 'Colombia', 'Nigeria', 'Egypt', 'Thailand', 'Russia', 'Guinea',\n",
    " 'Morocco', \"Côte d'Ivoire\", 'Portugal', 'Japan', 'Myanmar', 'Mindanao',\n",
    " 'Dominican Republic', 'Iran', 'Venezuela', 'Ghana', 'Angola', 'Sierra Leone', \n",
    " 'Democratic Republic of the Congo', 'Madagascar', 'Turkey', 'Peru', 'Italy', 'Oman', 'Djibouti',\n",
    " 'North Korea', 'Greece', 'Yemen', 'Taiwan', 'Comoros', 'Papua New Guinea', 'Jamaica', 'Saudi Arabia',\n",
    " 'Netherlands', 'Panama', 'Singapore', 'Kenya', 'France', 'Pakistan', 'United States', 'Gabon',\n",
    " 'Congo-Brazzaville', 'Belgium', 'Brunei', 'Cyprus', 'Haiti', 'Liberia', 'Belize', 'Qatar', 'Solomon Islands',\n",
    " 'Equatorial Guinea', 'Guatemala', 'Fiji', 'South Africa', 'Tunisia', 'Mauritania', 'United Arab Emirates',\n",
    " 'Germany', 'Mexico', 'Montenegro', 'Togo', 'Honduras', 'United Kingdom', 'Benin', 'Trinidad and Tobago',\n",
    " 'Bulgaria', 'Georgia', 'Cuba', 'Iraq', 'Suriname', 'Australia', 'El Salvador', 'Romania', 'Saint Lucia',\n",
    " 'Uruguay', 'British Virgin Islands', 'Saint Vincent and the Grenadines', 'Sudan', 'Dominica',\n",
    " 'Spain', 'Costa Rica', 'Antigua and Barbuda', 'Grenada', 'South Korea', 'Cape Verde', 'Seychelles',\n",
    " 'Libya', 'Cayman Islands', 'Saint Kitts and Nevis']\n",
    "\n",
    "countries = [x.lower() for x in countries]"
   ]
  },
  {
   "cell_type": "code",
   "execution_count": 25,
   "id": "b6383ac0",
   "metadata": {},
   "outputs": [],
   "source": [
    "lis = [44, 360, 1, 232, 356, 76, 706, 218, 608, 470, 156, 120, 144, 558, 686, 50, 704, 458, 508, 328, \n",
    "       12, 834, 422, 608, 170, 566, 818, 764, 643, 324, 504, 384, 620, 392, 104, 608, 214, 364, 862, \n",
    "       288, 24, 694, 180, 450, 792, 604, 380, 512, 262, 408, 300, 887, 156, 174, 598, 388, 682, 528,\n",
    "       591, 702, 404, 250, 586, 840, 266, 178, 56, 96, 196, 332, 430, 84, 634, 90, 226, 320, 242, 710, \n",
    "       788, 478, 784, 276, 484, 499, 768, 340, 826, 204, 780, 100, 268, 192, 368, 740, 36, 222, 642, \n",
    "       662, 858, 92, 670, 729, 212, 724, 188, 28, 308, 410, 132, 690, 434, 136, 659]"
   ]
  },
  {
   "cell_type": "code",
   "execution_count": 26,
   "id": "f376c71d",
   "metadata": {},
   "outputs": [],
   "source": [
    "dic = {countries[i]: lis[i] for i in range(len(countries))}"
   ]
  },
  {
   "cell_type": "code",
   "execution_count": 27,
   "id": "4826e7c5",
   "metadata": {},
   "outputs": [],
   "source": [
    "df['country_code'] = df['countries'].map(dic)"
   ]
  },
  {
   "cell_type": "code",
   "execution_count": 28,
   "id": "3bb3ae00",
   "metadata": {},
   "outputs": [],
   "source": [
    "df['join_key'] = list(zip(df.country_code, df.year))"
   ]
  },
  {
   "cell_type": "markdown",
   "id": "ef3c2dbc",
   "metadata": {},
   "source": [
    "* Saved final changes  made within this cleaning I notebook to the csv file detailed below."
   ]
  },
  {
   "cell_type": "code",
   "execution_count": 29,
   "id": "247cad8f",
   "metadata": {},
   "outputs": [],
   "source": [
    "df.to_csv('../datasets/cleaned_pirate_activity_eda.csv')"
   ]
  }
 ],
 "metadata": {
  "kernelspec": {
   "display_name": "Python 3",
   "language": "python",
   "name": "python3"
  },
  "language_info": {
   "codemirror_mode": {
    "name": "ipython",
    "version": 3
   },
   "file_extension": ".py",
   "mimetype": "text/x-python",
   "name": "python",
   "nbconvert_exporter": "python",
   "pygments_lexer": "ipython3",
   "version": "3.8.8"
  }
 },
 "nbformat": 4,
 "nbformat_minor": 5
}
