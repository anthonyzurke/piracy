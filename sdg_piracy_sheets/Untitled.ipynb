{
 "cells": [
  {
   "cell_type": "code",
   "execution_count": 1,
   "id": "f1507b9d",
   "metadata": {},
   "outputs": [],
   "source": [
    "import pandas as pd\n",
    "import numpy as np"
   ]
  },
  {
   "cell_type": "code",
   "execution_count": 2,
   "id": "0f9c8959",
   "metadata": {},
   "outputs": [],
   "source": [
    "#to clean a file, place it in the path below. no other code needs to be changed\n",
    "df= pd.read_excel('./excel_data/Goal1.xlsx')"
   ]
  },
  {
   "cell_type": "code",
   "execution_count": 3,
   "id": "f3669d2f",
   "metadata": {},
   "outputs": [],
   "source": [
    "series_list = df['Indicator'].astype(str).unique().tolist()\n",
    "series_list = ['t'+ series.replace('.', '') for series in series_list]"
   ]
  },
  {
   "cell_type": "code",
   "execution_count": 4,
   "id": "088da70c",
   "metadata": {},
   "outputs": [],
   "source": [
    "def frame_breaker(df='df', breaker_column='Indicator'):\n",
    "    ind_list = df[breaker_column].astype(str).unique().tolist()\n",
    "    for ind in ind_list:\n",
    "        globals()['t'+ ind.replace('.', '')] = df[(df[breaker_column] == ind)]\n",
    "\n",
    "frame_breaker(df)"
   ]
  },
  {
   "cell_type": "code",
   "execution_count": 5,
   "id": "8ba0e40c",
   "metadata": {},
   "outputs": [
    {
     "name": "stderr",
     "output_type": "stream",
     "text": [
      "<ipython-input-5-776636426641>:2: SettingWithCopyWarning: \n",
      "A value is trying to be set on a copy of a slice from a DataFrame\n",
      "\n",
      "See the caveats in the documentation: https://pandas.pydata.org/pandas-docs/stable/user_guide/indexing.html#returning-a-view-versus-a-copy\n",
      "  globals()[series].dropna(axis=1, how='all', inplace=True)\n",
      "<ipython-input-5-776636426641>:2: SettingWithCopyWarning: \n",
      "A value is trying to be set on a copy of a slice from a DataFrame\n",
      "\n",
      "See the caveats in the documentation: https://pandas.pydata.org/pandas-docs/stable/user_guide/indexing.html#returning-a-view-versus-a-copy\n",
      "  globals()[series].dropna(axis=1, how='all', inplace=True)\n",
      "<ipython-input-5-776636426641>:2: SettingWithCopyWarning: \n",
      "A value is trying to be set on a copy of a slice from a DataFrame\n",
      "\n",
      "See the caveats in the documentation: https://pandas.pydata.org/pandas-docs/stable/user_guide/indexing.html#returning-a-view-versus-a-copy\n",
      "  globals()[series].dropna(axis=1, how='all', inplace=True)\n"
     ]
    }
   ],
   "source": [
    "for series in series_list:\n",
    "    globals()[series].dropna(axis=1, how='all', inplace=True)"
   ]
  },
  {
   "cell_type": "code",
   "execution_count": 6,
   "id": "1279c6c6",
   "metadata": {},
   "outputs": [],
   "source": [
    "for series in series_list:\n",
    "    globals()[series].to_csv('./csv_data/'+ series + '.csv')"
   ]
  }
 ],
 "metadata": {
  "kernelspec": {
   "display_name": "Python 3",
   "language": "python",
   "name": "python3"
  },
  "language_info": {
   "codemirror_mode": {
    "name": "ipython",
    "version": 3
   },
   "file_extension": ".py",
   "mimetype": "text/x-python",
   "name": "python",
   "nbconvert_exporter": "python",
   "pygments_lexer": "ipython3",
   "version": "3.8.8"
  }
 },
 "nbformat": 4,
 "nbformat_minor": 5
}
